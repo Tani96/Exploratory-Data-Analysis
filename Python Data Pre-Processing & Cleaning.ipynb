{
 "cells": [
  {
   "cell_type": "code",
   "execution_count": 4,
   "id": "3f269618",
   "metadata": {},
   "outputs": [],
   "source": [
    "import pandas as pd\n",
    "import numpy as np"
   ]
  },
  {
   "cell_type": "code",
   "execution_count": 154,
   "id": "593e721f",
   "metadata": {},
   "outputs": [],
   "source": [
    "antivirus_data = pd.read_csv(\"C:\\\\Users\\\\saifr\\\\OneDrive\\\\Documents\\\\Data Sets\\\\kaspersky_data_set.csv\")\n"
   ]
  },
  {
   "cell_type": "code",
   "execution_count": 155,
   "id": "964424c0",
   "metadata": {},
   "outputs": [
    {
     "data": {
      "text/plain": [
       "True"
      ]
     },
     "execution_count": 155,
     "metadata": {},
     "output_type": "execute_result"
    }
   ],
   "source": [
    "antivirus_data[\"Order Id\"].duplicated().any()"
   ]
  },
  {
   "cell_type": "code",
   "execution_count": 156,
   "id": "399bcb65",
   "metadata": {},
   "outputs": [],
   "source": [
    "antivirus_data = antivirus_data.drop_duplicates([\"Order Id\"])"
   ]
  },
  {
   "cell_type": "code",
   "execution_count": 157,
   "id": "7c16672c",
   "metadata": {},
   "outputs": [
    {
     "data": {
      "text/html": [
       "<div>\n",
       "<style scoped>\n",
       "    .dataframe tbody tr th:only-of-type {\n",
       "        vertical-align: middle;\n",
       "    }\n",
       "\n",
       "    .dataframe tbody tr th {\n",
       "        vertical-align: top;\n",
       "    }\n",
       "\n",
       "    .dataframe thead th {\n",
       "        text-align: right;\n",
       "    }\n",
       "</style>\n",
       "<table border=\"1\" class=\"dataframe\">\n",
       "  <thead>\n",
       "    <tr style=\"text-align: right;\">\n",
       "      <th></th>\n",
       "      <th>Order Date</th>\n",
       "      <th>Order Id</th>\n",
       "      <th>Quantity</th>\n",
       "      <th>City</th>\n",
       "      <th>State</th>\n",
       "      <th>Postal Code</th>\n",
       "      <th>Sales (in ₹)</th>\n",
       "    </tr>\n",
       "  </thead>\n",
       "  <tbody>\n",
       "    <tr>\n",
       "      <th>0</th>\n",
       "      <td>01-08-2019</td>\n",
       "      <td>403-3530645-4532309</td>\n",
       "      <td>2.0</td>\n",
       "      <td>SHILLONG</td>\n",
       "      <td>MEGHALAYA</td>\n",
       "      <td>793014.0</td>\n",
       "      <td>622.0</td>\n",
       "    </tr>\n",
       "    <tr>\n",
       "      <th>1</th>\n",
       "      <td>01-08-2019</td>\n",
       "      <td>408-6483865-0205129</td>\n",
       "      <td>1.0</td>\n",
       "      <td>KARAIKAL</td>\n",
       "      <td>PUDUCHERRY</td>\n",
       "      <td>609602.0</td>\n",
       "      <td>599.0</td>\n",
       "    </tr>\n",
       "    <tr>\n",
       "      <th>2</th>\n",
       "      <td>01-08-2019</td>\n",
       "      <td>404-2232267-5620342</td>\n",
       "      <td>1.0</td>\n",
       "      <td>HOWRAH</td>\n",
       "      <td>WEST BENGAL</td>\n",
       "      <td>711106.0</td>\n",
       "      <td>99.0</td>\n",
       "    </tr>\n",
       "    <tr>\n",
       "      <th>3</th>\n",
       "      <td>01-08-2019</td>\n",
       "      <td>404-4361155-8379548</td>\n",
       "      <td>1.0</td>\n",
       "      <td>EAST DELHI</td>\n",
       "      <td>DELHI</td>\n",
       "      <td>110096.0</td>\n",
       "      <td>425.0</td>\n",
       "    </tr>\n",
       "    <tr>\n",
       "      <th>4</th>\n",
       "      <td>01-08-2019</td>\n",
       "      <td>171-5262052-7153940</td>\n",
       "      <td>1.0</td>\n",
       "      <td>SECUNDERABAD</td>\n",
       "      <td>TELANGANA</td>\n",
       "      <td>500011.0</td>\n",
       "      <td>311.0</td>\n",
       "    </tr>\n",
       "    <tr>\n",
       "      <th>...</th>\n",
       "      <td>...</td>\n",
       "      <td>...</td>\n",
       "      <td>...</td>\n",
       "      <td>...</td>\n",
       "      <td>...</td>\n",
       "      <td>...</td>\n",
       "      <td>...</td>\n",
       "    </tr>\n",
       "    <tr>\n",
       "      <th>12414</th>\n",
       "      <td>31-08-2019</td>\n",
       "      <td>403-0373609-2719543</td>\n",
       "      <td>1.0</td>\n",
       "      <td>COIMBATORE</td>\n",
       "      <td>TAMIL NADU</td>\n",
       "      <td>641008.0</td>\n",
       "      <td>549.0</td>\n",
       "    </tr>\n",
       "    <tr>\n",
       "      <th>12415</th>\n",
       "      <td>31-08-2019</td>\n",
       "      <td>403-9105417-1743550</td>\n",
       "      <td>1.0</td>\n",
       "      <td>HYDERABAD</td>\n",
       "      <td>TELANGANA</td>\n",
       "      <td>500018.0</td>\n",
       "      <td>439.0</td>\n",
       "    </tr>\n",
       "    <tr>\n",
       "      <th>12416</th>\n",
       "      <td>31-08-2019</td>\n",
       "      <td>408-4876710-9449148</td>\n",
       "      <td>1.0</td>\n",
       "      <td>BENGALURU</td>\n",
       "      <td>KARNATAKA</td>\n",
       "      <td>560077.0</td>\n",
       "      <td>275.0</td>\n",
       "    </tr>\n",
       "    <tr>\n",
       "      <th>12417</th>\n",
       "      <td>31-08-2019</td>\n",
       "      <td>408-8787519-2130735</td>\n",
       "      <td>1.0</td>\n",
       "      <td>NAVI MUMBAI</td>\n",
       "      <td>MAHARASHTRA</td>\n",
       "      <td>410210.0</td>\n",
       "      <td>769.0</td>\n",
       "    </tr>\n",
       "    <tr>\n",
       "      <th>12418</th>\n",
       "      <td>31-08-2019</td>\n",
       "      <td>406-9939020-8185154</td>\n",
       "      <td>1.0</td>\n",
       "      <td>MADURAI</td>\n",
       "      <td>TAMIL NADU</td>\n",
       "      <td>625009.0</td>\n",
       "      <td>549.0</td>\n",
       "    </tr>\n",
       "  </tbody>\n",
       "</table>\n",
       "<p>12267 rows × 7 columns</p>\n",
       "</div>"
      ],
      "text/plain": [
       "       Order Date             Order Id  Quantity          City        State  \\\n",
       "0      01-08-2019  403-3530645-4532309       2.0      SHILLONG    MEGHALAYA   \n",
       "1      01-08-2019  408-6483865-0205129       1.0      KARAIKAL   PUDUCHERRY   \n",
       "2      01-08-2019  404-2232267-5620342       1.0        HOWRAH  WEST BENGAL   \n",
       "3      01-08-2019  404-4361155-8379548       1.0    EAST DELHI        DELHI   \n",
       "4      01-08-2019  171-5262052-7153940       1.0  SECUNDERABAD    TELANGANA   \n",
       "...           ...                  ...       ...           ...          ...   \n",
       "12414  31-08-2019  403-0373609-2719543       1.0    COIMBATORE   TAMIL NADU   \n",
       "12415  31-08-2019  403-9105417-1743550       1.0     HYDERABAD    TELANGANA   \n",
       "12416  31-08-2019  408-4876710-9449148       1.0     BENGALURU    KARNATAKA   \n",
       "12417  31-08-2019  408-8787519-2130735       1.0   NAVI MUMBAI  MAHARASHTRA   \n",
       "12418  31-08-2019  406-9939020-8185154       1.0       MADURAI   TAMIL NADU   \n",
       "\n",
       "       Postal Code  Sales (in ₹)  \n",
       "0         793014.0         622.0  \n",
       "1         609602.0         599.0  \n",
       "2         711106.0          99.0  \n",
       "3         110096.0         425.0  \n",
       "4         500011.0         311.0  \n",
       "...            ...           ...  \n",
       "12414     641008.0         549.0  \n",
       "12415     500018.0         439.0  \n",
       "12416     560077.0         275.0  \n",
       "12417     410210.0         769.0  \n",
       "12418     625009.0         549.0  \n",
       "\n",
       "[12267 rows x 7 columns]"
      ]
     },
     "execution_count": 157,
     "metadata": {},
     "output_type": "execute_result"
    }
   ],
   "source": [
    "antivirus_data"
   ]
  },
  {
   "cell_type": "code",
   "execution_count": 158,
   "id": "907a1c04",
   "metadata": {},
   "outputs": [
    {
     "data": {
      "text/plain": [
       "(12267, 7)"
      ]
     },
     "execution_count": 158,
     "metadata": {},
     "output_type": "execute_result"
    }
   ],
   "source": [
    "antivirus_data.shape"
   ]
  },
  {
   "cell_type": "code",
   "execution_count": 159,
   "id": "34cf643a",
   "metadata": {},
   "outputs": [
    {
     "data": {
      "text/plain": [
       "Index(['Order Date', 'Order Id', 'Quantity', 'City', 'State', 'Postal Code',\n",
       "       'Sales (in ₹)'],\n",
       "      dtype='object')"
      ]
     },
     "execution_count": 159,
     "metadata": {},
     "output_type": "execute_result"
    }
   ],
   "source": [
    "antivirus_data.columns"
   ]
  },
  {
   "cell_type": "code",
   "execution_count": 160,
   "id": "dc3bf1dc",
   "metadata": {},
   "outputs": [
    {
     "data": {
      "text/html": [
       "<div>\n",
       "<style scoped>\n",
       "    .dataframe tbody tr th:only-of-type {\n",
       "        vertical-align: middle;\n",
       "    }\n",
       "\n",
       "    .dataframe tbody tr th {\n",
       "        vertical-align: top;\n",
       "    }\n",
       "\n",
       "    .dataframe thead th {\n",
       "        text-align: right;\n",
       "    }\n",
       "</style>\n",
       "<table border=\"1\" class=\"dataframe\">\n",
       "  <thead>\n",
       "    <tr style=\"text-align: right;\">\n",
       "      <th></th>\n",
       "      <th>Order Date</th>\n",
       "      <th>Order Id</th>\n",
       "      <th>Quantity</th>\n",
       "      <th>City</th>\n",
       "      <th>State</th>\n",
       "      <th>Postal Code</th>\n",
       "      <th>Sales (in ₹)</th>\n",
       "    </tr>\n",
       "  </thead>\n",
       "  <tbody>\n",
       "    <tr>\n",
       "      <th>0</th>\n",
       "      <td>01-08-2019</td>\n",
       "      <td>403-3530645-4532309</td>\n",
       "      <td>2.0</td>\n",
       "      <td>SHILLONG</td>\n",
       "      <td>MEGHALAYA</td>\n",
       "      <td>793014.0</td>\n",
       "      <td>622.0</td>\n",
       "    </tr>\n",
       "    <tr>\n",
       "      <th>1</th>\n",
       "      <td>01-08-2019</td>\n",
       "      <td>408-6483865-0205129</td>\n",
       "      <td>1.0</td>\n",
       "      <td>KARAIKAL</td>\n",
       "      <td>PUDUCHERRY</td>\n",
       "      <td>609602.0</td>\n",
       "      <td>599.0</td>\n",
       "    </tr>\n",
       "    <tr>\n",
       "      <th>2</th>\n",
       "      <td>01-08-2019</td>\n",
       "      <td>404-2232267-5620342</td>\n",
       "      <td>1.0</td>\n",
       "      <td>HOWRAH</td>\n",
       "      <td>WEST BENGAL</td>\n",
       "      <td>711106.0</td>\n",
       "      <td>99.0</td>\n",
       "    </tr>\n",
       "    <tr>\n",
       "      <th>3</th>\n",
       "      <td>01-08-2019</td>\n",
       "      <td>404-4361155-8379548</td>\n",
       "      <td>1.0</td>\n",
       "      <td>EAST DELHI</td>\n",
       "      <td>DELHI</td>\n",
       "      <td>110096.0</td>\n",
       "      <td>425.0</td>\n",
       "    </tr>\n",
       "    <tr>\n",
       "      <th>4</th>\n",
       "      <td>01-08-2019</td>\n",
       "      <td>171-5262052-7153940</td>\n",
       "      <td>1.0</td>\n",
       "      <td>SECUNDERABAD</td>\n",
       "      <td>TELANGANA</td>\n",
       "      <td>500011.0</td>\n",
       "      <td>311.0</td>\n",
       "    </tr>\n",
       "  </tbody>\n",
       "</table>\n",
       "</div>"
      ],
      "text/plain": [
       "   Order Date             Order Id  Quantity          City        State  \\\n",
       "0  01-08-2019  403-3530645-4532309       2.0      SHILLONG    MEGHALAYA   \n",
       "1  01-08-2019  408-6483865-0205129       1.0      KARAIKAL   PUDUCHERRY   \n",
       "2  01-08-2019  404-2232267-5620342       1.0        HOWRAH  WEST BENGAL   \n",
       "3  01-08-2019  404-4361155-8379548       1.0    EAST DELHI        DELHI   \n",
       "4  01-08-2019  171-5262052-7153940       1.0  SECUNDERABAD    TELANGANA   \n",
       "\n",
       "   Postal Code  Sales (in ₹)  \n",
       "0     793014.0         622.0  \n",
       "1     609602.0         599.0  \n",
       "2     711106.0          99.0  \n",
       "3     110096.0         425.0  \n",
       "4     500011.0         311.0  "
      ]
     },
     "execution_count": 160,
     "metadata": {},
     "output_type": "execute_result"
    }
   ],
   "source": [
    "antivirus_data.head()"
   ]
  },
  {
   "cell_type": "code",
   "execution_count": 161,
   "id": "db43d24d",
   "metadata": {},
   "outputs": [
    {
     "data": {
      "text/html": [
       "<div>\n",
       "<style scoped>\n",
       "    .dataframe tbody tr th:only-of-type {\n",
       "        vertical-align: middle;\n",
       "    }\n",
       "\n",
       "    .dataframe tbody tr th {\n",
       "        vertical-align: top;\n",
       "    }\n",
       "\n",
       "    .dataframe thead th {\n",
       "        text-align: right;\n",
       "    }\n",
       "</style>\n",
       "<table border=\"1\" class=\"dataframe\">\n",
       "  <thead>\n",
       "    <tr style=\"text-align: right;\">\n",
       "      <th></th>\n",
       "      <th>Order Date</th>\n",
       "      <th>Order Id</th>\n",
       "      <th>Quantity</th>\n",
       "      <th>City</th>\n",
       "      <th>State</th>\n",
       "      <th>Postal Code</th>\n",
       "      <th>Sales (in ₹)</th>\n",
       "    </tr>\n",
       "  </thead>\n",
       "  <tbody>\n",
       "    <tr>\n",
       "      <th>12414</th>\n",
       "      <td>31-08-2019</td>\n",
       "      <td>403-0373609-2719543</td>\n",
       "      <td>1.0</td>\n",
       "      <td>COIMBATORE</td>\n",
       "      <td>TAMIL NADU</td>\n",
       "      <td>641008.0</td>\n",
       "      <td>549.0</td>\n",
       "    </tr>\n",
       "    <tr>\n",
       "      <th>12415</th>\n",
       "      <td>31-08-2019</td>\n",
       "      <td>403-9105417-1743550</td>\n",
       "      <td>1.0</td>\n",
       "      <td>HYDERABAD</td>\n",
       "      <td>TELANGANA</td>\n",
       "      <td>500018.0</td>\n",
       "      <td>439.0</td>\n",
       "    </tr>\n",
       "    <tr>\n",
       "      <th>12416</th>\n",
       "      <td>31-08-2019</td>\n",
       "      <td>408-4876710-9449148</td>\n",
       "      <td>1.0</td>\n",
       "      <td>BENGALURU</td>\n",
       "      <td>KARNATAKA</td>\n",
       "      <td>560077.0</td>\n",
       "      <td>275.0</td>\n",
       "    </tr>\n",
       "    <tr>\n",
       "      <th>12417</th>\n",
       "      <td>31-08-2019</td>\n",
       "      <td>408-8787519-2130735</td>\n",
       "      <td>1.0</td>\n",
       "      <td>NAVI MUMBAI</td>\n",
       "      <td>MAHARASHTRA</td>\n",
       "      <td>410210.0</td>\n",
       "      <td>769.0</td>\n",
       "    </tr>\n",
       "    <tr>\n",
       "      <th>12418</th>\n",
       "      <td>31-08-2019</td>\n",
       "      <td>406-9939020-8185154</td>\n",
       "      <td>1.0</td>\n",
       "      <td>MADURAI</td>\n",
       "      <td>TAMIL NADU</td>\n",
       "      <td>625009.0</td>\n",
       "      <td>549.0</td>\n",
       "    </tr>\n",
       "  </tbody>\n",
       "</table>\n",
       "</div>"
      ],
      "text/plain": [
       "       Order Date             Order Id  Quantity         City        State  \\\n",
       "12414  31-08-2019  403-0373609-2719543       1.0   COIMBATORE   TAMIL NADU   \n",
       "12415  31-08-2019  403-9105417-1743550       1.0    HYDERABAD    TELANGANA   \n",
       "12416  31-08-2019  408-4876710-9449148       1.0    BENGALURU    KARNATAKA   \n",
       "12417  31-08-2019  408-8787519-2130735       1.0  NAVI MUMBAI  MAHARASHTRA   \n",
       "12418  31-08-2019  406-9939020-8185154       1.0      MADURAI   TAMIL NADU   \n",
       "\n",
       "       Postal Code  Sales (in ₹)  \n",
       "12414     641008.0         549.0  \n",
       "12415     500018.0         439.0  \n",
       "12416     560077.0         275.0  \n",
       "12417     410210.0         769.0  \n",
       "12418     625009.0         549.0  "
      ]
     },
     "execution_count": 161,
     "metadata": {},
     "output_type": "execute_result"
    }
   ],
   "source": [
    "antivirus_data.tail()"
   ]
  },
  {
   "cell_type": "code",
   "execution_count": 162,
   "id": "3af53f2a",
   "metadata": {},
   "outputs": [
    {
     "name": "stdout",
     "output_type": "stream",
     "text": [
      "<class 'pandas.core.frame.DataFrame'>\n",
      "Int64Index: 12267 entries, 0 to 12418\n",
      "Data columns (total 7 columns):\n",
      " #   Column        Non-Null Count  Dtype  \n",
      "---  ------        --------------  -----  \n",
      " 0   Order Date    12219 non-null  object \n",
      " 1   Order Id      12267 non-null  object \n",
      " 2   Quantity      12266 non-null  float64\n",
      " 3   City          12262 non-null  object \n",
      " 4   State         12265 non-null  object \n",
      " 5   Postal Code   12264 non-null  float64\n",
      " 6   Sales (in ₹)  12223 non-null  float64\n",
      "dtypes: float64(3), object(4)\n",
      "memory usage: 766.7+ KB\n"
     ]
    }
   ],
   "source": [
    "antivirus_data.info()"
   ]
  },
  {
   "cell_type": "code",
   "execution_count": 163,
   "id": "329397e2",
   "metadata": {},
   "outputs": [
    {
     "data": {
      "text/html": [
       "<div>\n",
       "<style scoped>\n",
       "    .dataframe tbody tr th:only-of-type {\n",
       "        vertical-align: middle;\n",
       "    }\n",
       "\n",
       "    .dataframe tbody tr th {\n",
       "        vertical-align: top;\n",
       "    }\n",
       "\n",
       "    .dataframe thead th {\n",
       "        text-align: right;\n",
       "    }\n",
       "</style>\n",
       "<table border=\"1\" class=\"dataframe\">\n",
       "  <thead>\n",
       "    <tr style=\"text-align: right;\">\n",
       "      <th></th>\n",
       "      <th>Quantity</th>\n",
       "      <th>Postal Code</th>\n",
       "      <th>Sales (in ₹)</th>\n",
       "    </tr>\n",
       "  </thead>\n",
       "  <tbody>\n",
       "    <tr>\n",
       "      <th>count</th>\n",
       "      <td>12266.000000</td>\n",
       "      <td>12264.000000</td>\n",
       "      <td>12223.000000</td>\n",
       "    </tr>\n",
       "    <tr>\n",
       "      <th>mean</th>\n",
       "      <td>1.028290</td>\n",
       "      <td>506070.447081</td>\n",
       "      <td>496.064387</td>\n",
       "    </tr>\n",
       "    <tr>\n",
       "      <th>std</th>\n",
       "      <td>0.556999</td>\n",
       "      <td>184445.557515</td>\n",
       "      <td>571.581474</td>\n",
       "    </tr>\n",
       "    <tr>\n",
       "      <th>min</th>\n",
       "      <td>1.000000</td>\n",
       "      <td>110001.000000</td>\n",
       "      <td>49.000000</td>\n",
       "    </tr>\n",
       "    <tr>\n",
       "      <th>25%</th>\n",
       "      <td>1.000000</td>\n",
       "      <td>400615.000000</td>\n",
       "      <td>109.000000</td>\n",
       "    </tr>\n",
       "    <tr>\n",
       "      <th>50%</th>\n",
       "      <td>1.000000</td>\n",
       "      <td>560018.000000</td>\n",
       "      <td>399.000000</td>\n",
       "    </tr>\n",
       "    <tr>\n",
       "      <th>75%</th>\n",
       "      <td>1.000000</td>\n",
       "      <td>636331.250000</td>\n",
       "      <td>600.000000</td>\n",
       "    </tr>\n",
       "    <tr>\n",
       "      <th>max</th>\n",
       "      <td>50.000000</td>\n",
       "      <td>855114.000000</td>\n",
       "      <td>27500.000000</td>\n",
       "    </tr>\n",
       "  </tbody>\n",
       "</table>\n",
       "</div>"
      ],
      "text/plain": [
       "           Quantity    Postal Code  Sales (in ₹)\n",
       "count  12266.000000   12264.000000  12223.000000\n",
       "mean       1.028290  506070.447081    496.064387\n",
       "std        0.556999  184445.557515    571.581474\n",
       "min        1.000000  110001.000000     49.000000\n",
       "25%        1.000000  400615.000000    109.000000\n",
       "50%        1.000000  560018.000000    399.000000\n",
       "75%        1.000000  636331.250000    600.000000\n",
       "max       50.000000  855114.000000  27500.000000"
      ]
     },
     "execution_count": 163,
     "metadata": {},
     "output_type": "execute_result"
    }
   ],
   "source": [
    "antivirus_data.describe()"
   ]
  },
  {
   "cell_type": "code",
   "execution_count": 164,
   "id": "becf5096",
   "metadata": {},
   "outputs": [
    {
     "data": {
      "text/plain": [
       "11-08-2019    792\n",
       "09-08-2019    709\n",
       "10-08-2019    660\n",
       "08-08-2019    650\n",
       "18-08-2019    511\n",
       "07-08-2019    489\n",
       "25-08-2019    485\n",
       "12-08-2019    420\n",
       "04-08-2019    413\n",
       "29-08-2019    404\n",
       "17-08-2019    388\n",
       "03-08-2019    378\n",
       "31-08-2019    361\n",
       "28-08-2019    361\n",
       "24-08-2019    341\n",
       "15-08-2019    339\n",
       "01-08-2019    338\n",
       "23-08-2019    329\n",
       "13-08-2019    329\n",
       "05-08-2019    325\n",
       "16-08-2019    323\n",
       "27-08-2019    318\n",
       "02-08-2019    303\n",
       "30-08-2019    303\n",
       "26-08-2019    300\n",
       "19-08-2019    287\n",
       "14-08-2019    286\n",
       "22-08-2019    275\n",
       "20-08-2019    274\n",
       "21-08-2019    266\n",
       "06-08-2019    262\n",
       "Name: Order Date, dtype: int64"
      ]
     },
     "execution_count": 164,
     "metadata": {},
     "output_type": "execute_result"
    }
   ],
   "source": [
    "antivirus_data['Order Date'].value_counts()"
   ]
  },
  {
   "cell_type": "code",
   "execution_count": 165,
   "id": "c5bdc0e6",
   "metadata": {},
   "outputs": [
    {
     "data": {
      "text/plain": [
       "403-3530645-4532309    1\n",
       "406-2047558-6801939    1\n",
       "405-1398640-2933119    1\n",
       "171-6006140-7028335    1\n",
       "402-1951613-3074710    1\n",
       "                      ..\n",
       "404-9592156-9557948    1\n",
       "408-5305413-8447563    1\n",
       "402-0054350-2997918    1\n",
       "405-7198911-3421143    1\n",
       "406-9939020-8185154    1\n",
       "Name: Order Id, Length: 12267, dtype: int64"
      ]
     },
     "execution_count": 165,
     "metadata": {},
     "output_type": "execute_result"
    }
   ],
   "source": [
    "antivirus_data['Order Id'].value_counts()"
   ]
  },
  {
   "cell_type": "code",
   "execution_count": 168,
   "id": "305b0f93",
   "metadata": {},
   "outputs": [
    {
     "data": {
      "text/plain": [
       "201301.0    67\n",
       "560037.0    60\n",
       "560076.0    59\n",
       "560066.0    58\n",
       "560043.0    56\n",
       "            ..\n",
       "249202.0     1\n",
       "533263.0     1\n",
       "813213.0     1\n",
       "813210.0     1\n",
       "625009.0     1\n",
       "Name: Postal Code, Length: 3767, dtype: int64"
      ]
     },
     "execution_count": 168,
     "metadata": {},
     "output_type": "execute_result"
    }
   ],
   "source": [
    "antivirus_data['Postal Code'].value_counts()"
   ]
  },
  {
   "cell_type": "code",
   "execution_count": 169,
   "id": "f8200c18",
   "metadata": {},
   "outputs": [
    {
     "data": {
      "text/html": [
       "<div>\n",
       "<style scoped>\n",
       "    .dataframe tbody tr th:only-of-type {\n",
       "        vertical-align: middle;\n",
       "    }\n",
       "\n",
       "    .dataframe tbody tr th {\n",
       "        vertical-align: top;\n",
       "    }\n",
       "\n",
       "    .dataframe thead th {\n",
       "        text-align: right;\n",
       "    }\n",
       "</style>\n",
       "<table border=\"1\" class=\"dataframe\">\n",
       "  <thead>\n",
       "    <tr style=\"text-align: right;\">\n",
       "      <th></th>\n",
       "      <th>Order Date</th>\n",
       "      <th>Order Id</th>\n",
       "      <th>Quantity</th>\n",
       "      <th>City</th>\n",
       "      <th>State</th>\n",
       "      <th>Postal Code</th>\n",
       "      <th>Sales (in ₹)</th>\n",
       "    </tr>\n",
       "  </thead>\n",
       "  <tbody>\n",
       "    <tr>\n",
       "      <th>0</th>\n",
       "      <td>False</td>\n",
       "      <td>False</td>\n",
       "      <td>False</td>\n",
       "      <td>False</td>\n",
       "      <td>False</td>\n",
       "      <td>False</td>\n",
       "      <td>False</td>\n",
       "    </tr>\n",
       "    <tr>\n",
       "      <th>1</th>\n",
       "      <td>False</td>\n",
       "      <td>False</td>\n",
       "      <td>False</td>\n",
       "      <td>False</td>\n",
       "      <td>False</td>\n",
       "      <td>False</td>\n",
       "      <td>False</td>\n",
       "    </tr>\n",
       "    <tr>\n",
       "      <th>2</th>\n",
       "      <td>False</td>\n",
       "      <td>False</td>\n",
       "      <td>False</td>\n",
       "      <td>False</td>\n",
       "      <td>False</td>\n",
       "      <td>False</td>\n",
       "      <td>False</td>\n",
       "    </tr>\n",
       "    <tr>\n",
       "      <th>3</th>\n",
       "      <td>False</td>\n",
       "      <td>False</td>\n",
       "      <td>False</td>\n",
       "      <td>False</td>\n",
       "      <td>False</td>\n",
       "      <td>False</td>\n",
       "      <td>False</td>\n",
       "    </tr>\n",
       "    <tr>\n",
       "      <th>4</th>\n",
       "      <td>False</td>\n",
       "      <td>False</td>\n",
       "      <td>False</td>\n",
       "      <td>False</td>\n",
       "      <td>False</td>\n",
       "      <td>False</td>\n",
       "      <td>False</td>\n",
       "    </tr>\n",
       "    <tr>\n",
       "      <th>...</th>\n",
       "      <td>...</td>\n",
       "      <td>...</td>\n",
       "      <td>...</td>\n",
       "      <td>...</td>\n",
       "      <td>...</td>\n",
       "      <td>...</td>\n",
       "      <td>...</td>\n",
       "    </tr>\n",
       "    <tr>\n",
       "      <th>12414</th>\n",
       "      <td>False</td>\n",
       "      <td>False</td>\n",
       "      <td>False</td>\n",
       "      <td>False</td>\n",
       "      <td>False</td>\n",
       "      <td>False</td>\n",
       "      <td>False</td>\n",
       "    </tr>\n",
       "    <tr>\n",
       "      <th>12415</th>\n",
       "      <td>False</td>\n",
       "      <td>False</td>\n",
       "      <td>False</td>\n",
       "      <td>False</td>\n",
       "      <td>False</td>\n",
       "      <td>False</td>\n",
       "      <td>False</td>\n",
       "    </tr>\n",
       "    <tr>\n",
       "      <th>12416</th>\n",
       "      <td>False</td>\n",
       "      <td>False</td>\n",
       "      <td>False</td>\n",
       "      <td>False</td>\n",
       "      <td>False</td>\n",
       "      <td>False</td>\n",
       "      <td>False</td>\n",
       "    </tr>\n",
       "    <tr>\n",
       "      <th>12417</th>\n",
       "      <td>False</td>\n",
       "      <td>False</td>\n",
       "      <td>False</td>\n",
       "      <td>False</td>\n",
       "      <td>False</td>\n",
       "      <td>False</td>\n",
       "      <td>False</td>\n",
       "    </tr>\n",
       "    <tr>\n",
       "      <th>12418</th>\n",
       "      <td>False</td>\n",
       "      <td>False</td>\n",
       "      <td>False</td>\n",
       "      <td>False</td>\n",
       "      <td>False</td>\n",
       "      <td>False</td>\n",
       "      <td>False</td>\n",
       "    </tr>\n",
       "  </tbody>\n",
       "</table>\n",
       "<p>12267 rows × 7 columns</p>\n",
       "</div>"
      ],
      "text/plain": [
       "       Order Date  Order Id  Quantity   City  State  Postal Code  Sales (in ₹)\n",
       "0           False     False     False  False  False        False         False\n",
       "1           False     False     False  False  False        False         False\n",
       "2           False     False     False  False  False        False         False\n",
       "3           False     False     False  False  False        False         False\n",
       "4           False     False     False  False  False        False         False\n",
       "...           ...       ...       ...    ...    ...          ...           ...\n",
       "12414       False     False     False  False  False        False         False\n",
       "12415       False     False     False  False  False        False         False\n",
       "12416       False     False     False  False  False        False         False\n",
       "12417       False     False     False  False  False        False         False\n",
       "12418       False     False     False  False  False        False         False\n",
       "\n",
       "[12267 rows x 7 columns]"
      ]
     },
     "execution_count": 169,
     "metadata": {},
     "output_type": "execute_result"
    }
   ],
   "source": [
    "antivirus_data.isnull()"
   ]
  },
  {
   "cell_type": "code",
   "execution_count": 170,
   "id": "30259c62",
   "metadata": {},
   "outputs": [
    {
     "data": {
      "text/plain": [
       "Order Date      48\n",
       "Order Id         0\n",
       "Quantity         1\n",
       "City             5\n",
       "State            2\n",
       "Postal Code      3\n",
       "Sales (in ₹)    44\n",
       "dtype: int64"
      ]
     },
     "execution_count": 170,
     "metadata": {},
     "output_type": "execute_result"
    }
   ],
   "source": [
    "antivirus_data.isnull().sum()"
   ]
  },
  {
   "cell_type": "code",
   "execution_count": 171,
   "id": "9b2fa268",
   "metadata": {},
   "outputs": [],
   "source": [
    "antivirus_data = antivirus_data.dropna()"
   ]
  },
  {
   "cell_type": "code",
   "execution_count": 172,
   "id": "1db12832",
   "metadata": {},
   "outputs": [
    {
     "name": "stdout",
     "output_type": "stream",
     "text": [
      "<class 'pandas.core.frame.DataFrame'>\n",
      "Int64Index: 12217 entries, 0 to 12418\n",
      "Data columns (total 7 columns):\n",
      " #   Column        Non-Null Count  Dtype  \n",
      "---  ------        --------------  -----  \n",
      " 0   Order Date    12217 non-null  object \n",
      " 1   Order Id      12217 non-null  object \n",
      " 2   Quantity      12217 non-null  float64\n",
      " 3   City          12217 non-null  object \n",
      " 4   State         12217 non-null  object \n",
      " 5   Postal Code   12217 non-null  float64\n",
      " 6   Sales (in ₹)  12217 non-null  float64\n",
      "dtypes: float64(3), object(4)\n",
      "memory usage: 763.6+ KB\n"
     ]
    }
   ],
   "source": [
    "antivirus_data.info()"
   ]
  },
  {
   "cell_type": "code",
   "execution_count": 173,
   "id": "1063c5d5",
   "metadata": {},
   "outputs": [
    {
     "data": {
      "text/plain": [
       "Order Date      0\n",
       "Order Id        0\n",
       "Quantity        0\n",
       "City            0\n",
       "State           0\n",
       "Postal Code     0\n",
       "Sales (in ₹)    0\n",
       "dtype: int64"
      ]
     },
     "execution_count": 173,
     "metadata": {},
     "output_type": "execute_result"
    }
   ],
   "source": [
    "antivirus_data.isnull().sum()"
   ]
  },
  {
   "cell_type": "code",
   "execution_count": 174,
   "id": "de111f7a",
   "metadata": {},
   "outputs": [
    {
     "data": {
      "text/html": [
       "<div>\n",
       "<style scoped>\n",
       "    .dataframe tbody tr th:only-of-type {\n",
       "        vertical-align: middle;\n",
       "    }\n",
       "\n",
       "    .dataframe tbody tr th {\n",
       "        vertical-align: top;\n",
       "    }\n",
       "\n",
       "    .dataframe thead th {\n",
       "        text-align: right;\n",
       "    }\n",
       "</style>\n",
       "<table border=\"1\" class=\"dataframe\">\n",
       "  <thead>\n",
       "    <tr style=\"text-align: right;\">\n",
       "      <th></th>\n",
       "      <th>Order Date</th>\n",
       "      <th>Order Id</th>\n",
       "      <th>Quantity</th>\n",
       "      <th>City</th>\n",
       "      <th>State</th>\n",
       "      <th>Postal Code</th>\n",
       "      <th>Sales (in ₹)</th>\n",
       "    </tr>\n",
       "  </thead>\n",
       "  <tbody>\n",
       "    <tr>\n",
       "      <th>0</th>\n",
       "      <td>01-08-2019</td>\n",
       "      <td>403-3530645-4532309</td>\n",
       "      <td>2.0</td>\n",
       "      <td>SHILLONG</td>\n",
       "      <td>MEGHALAYA</td>\n",
       "      <td>793014.0</td>\n",
       "      <td>622.0</td>\n",
       "    </tr>\n",
       "    <tr>\n",
       "      <th>1</th>\n",
       "      <td>01-08-2019</td>\n",
       "      <td>408-6483865-0205129</td>\n",
       "      <td>1.0</td>\n",
       "      <td>KARAIKAL</td>\n",
       "      <td>PUDUCHERRY</td>\n",
       "      <td>609602.0</td>\n",
       "      <td>599.0</td>\n",
       "    </tr>\n",
       "    <tr>\n",
       "      <th>2</th>\n",
       "      <td>01-08-2019</td>\n",
       "      <td>404-2232267-5620342</td>\n",
       "      <td>1.0</td>\n",
       "      <td>HOWRAH</td>\n",
       "      <td>WEST BENGAL</td>\n",
       "      <td>711106.0</td>\n",
       "      <td>99.0</td>\n",
       "    </tr>\n",
       "    <tr>\n",
       "      <th>3</th>\n",
       "      <td>01-08-2019</td>\n",
       "      <td>404-4361155-8379548</td>\n",
       "      <td>1.0</td>\n",
       "      <td>EAST DELHI</td>\n",
       "      <td>DELHI</td>\n",
       "      <td>110096.0</td>\n",
       "      <td>425.0</td>\n",
       "    </tr>\n",
       "    <tr>\n",
       "      <th>4</th>\n",
       "      <td>01-08-2019</td>\n",
       "      <td>171-5262052-7153940</td>\n",
       "      <td>1.0</td>\n",
       "      <td>SECUNDERABAD</td>\n",
       "      <td>TELANGANA</td>\n",
       "      <td>500011.0</td>\n",
       "      <td>311.0</td>\n",
       "    </tr>\n",
       "    <tr>\n",
       "      <th>...</th>\n",
       "      <td>...</td>\n",
       "      <td>...</td>\n",
       "      <td>...</td>\n",
       "      <td>...</td>\n",
       "      <td>...</td>\n",
       "      <td>...</td>\n",
       "      <td>...</td>\n",
       "    </tr>\n",
       "    <tr>\n",
       "      <th>12414</th>\n",
       "      <td>31-08-2019</td>\n",
       "      <td>403-0373609-2719543</td>\n",
       "      <td>1.0</td>\n",
       "      <td>COIMBATORE</td>\n",
       "      <td>TAMIL NADU</td>\n",
       "      <td>641008.0</td>\n",
       "      <td>549.0</td>\n",
       "    </tr>\n",
       "    <tr>\n",
       "      <th>12415</th>\n",
       "      <td>31-08-2019</td>\n",
       "      <td>403-9105417-1743550</td>\n",
       "      <td>1.0</td>\n",
       "      <td>HYDERABAD</td>\n",
       "      <td>TELANGANA</td>\n",
       "      <td>500018.0</td>\n",
       "      <td>439.0</td>\n",
       "    </tr>\n",
       "    <tr>\n",
       "      <th>12416</th>\n",
       "      <td>31-08-2019</td>\n",
       "      <td>408-4876710-9449148</td>\n",
       "      <td>1.0</td>\n",
       "      <td>BENGALURU</td>\n",
       "      <td>KARNATAKA</td>\n",
       "      <td>560077.0</td>\n",
       "      <td>275.0</td>\n",
       "    </tr>\n",
       "    <tr>\n",
       "      <th>12417</th>\n",
       "      <td>31-08-2019</td>\n",
       "      <td>408-8787519-2130735</td>\n",
       "      <td>1.0</td>\n",
       "      <td>NAVI MUMBAI</td>\n",
       "      <td>MAHARASHTRA</td>\n",
       "      <td>410210.0</td>\n",
       "      <td>769.0</td>\n",
       "    </tr>\n",
       "    <tr>\n",
       "      <th>12418</th>\n",
       "      <td>31-08-2019</td>\n",
       "      <td>406-9939020-8185154</td>\n",
       "      <td>1.0</td>\n",
       "      <td>MADURAI</td>\n",
       "      <td>TAMIL NADU</td>\n",
       "      <td>625009.0</td>\n",
       "      <td>549.0</td>\n",
       "    </tr>\n",
       "  </tbody>\n",
       "</table>\n",
       "<p>12217 rows × 7 columns</p>\n",
       "</div>"
      ],
      "text/plain": [
       "       Order Date             Order Id  Quantity          City        State  \\\n",
       "0      01-08-2019  403-3530645-4532309       2.0      SHILLONG    MEGHALAYA   \n",
       "1      01-08-2019  408-6483865-0205129       1.0      KARAIKAL   PUDUCHERRY   \n",
       "2      01-08-2019  404-2232267-5620342       1.0        HOWRAH  WEST BENGAL   \n",
       "3      01-08-2019  404-4361155-8379548       1.0    EAST DELHI        DELHI   \n",
       "4      01-08-2019  171-5262052-7153940       1.0  SECUNDERABAD    TELANGANA   \n",
       "...           ...                  ...       ...           ...          ...   \n",
       "12414  31-08-2019  403-0373609-2719543       1.0    COIMBATORE   TAMIL NADU   \n",
       "12415  31-08-2019  403-9105417-1743550       1.0     HYDERABAD    TELANGANA   \n",
       "12416  31-08-2019  408-4876710-9449148       1.0     BENGALURU    KARNATAKA   \n",
       "12417  31-08-2019  408-8787519-2130735       1.0   NAVI MUMBAI  MAHARASHTRA   \n",
       "12418  31-08-2019  406-9939020-8185154       1.0       MADURAI   TAMIL NADU   \n",
       "\n",
       "       Postal Code  Sales (in ₹)  \n",
       "0         793014.0         622.0  \n",
       "1         609602.0         599.0  \n",
       "2         711106.0          99.0  \n",
       "3         110096.0         425.0  \n",
       "4         500011.0         311.0  \n",
       "...            ...           ...  \n",
       "12414     641008.0         549.0  \n",
       "12415     500018.0         439.0  \n",
       "12416     560077.0         275.0  \n",
       "12417     410210.0         769.0  \n",
       "12418     625009.0         549.0  \n",
       "\n",
       "[12217 rows x 7 columns]"
      ]
     },
     "execution_count": 174,
     "metadata": {},
     "output_type": "execute_result"
    }
   ],
   "source": [
    "antivirus_data"
   ]
  },
  {
   "cell_type": "code",
   "execution_count": 179,
   "id": "4bf83a1a",
   "metadata": {},
   "outputs": [
    {
     "name": "stderr",
     "output_type": "stream",
     "text": [
      "C:\\Users\\saifr\\AppData\\Local\\Temp\\ipykernel_17112\\275464804.py:1: SettingWithCopyWarning: \n",
      "A value is trying to be set on a copy of a slice from a DataFrame.\n",
      "Try using .loc[row_indexer,col_indexer] = value instead\n",
      "\n",
      "See the caveats in the documentation: https://pandas.pydata.org/pandas-docs/stable/user_guide/indexing.html#returning-a-view-versus-a-copy\n",
      "  antivirus_data[\"State\"] = antivirus_data[\"State\"].str.upper()\n"
     ]
    }
   ],
   "source": [
    "antivirus_data[\"State\"] = antivirus_data[\"State\"].str.upper()"
   ]
  },
  {
   "cell_type": "code",
   "execution_count": 178,
   "id": "8e332bbb",
   "metadata": {},
   "outputs": [
    {
     "name": "stderr",
     "output_type": "stream",
     "text": [
      "C:\\Users\\saifr\\AppData\\Local\\Temp\\ipykernel_17112\\991006187.py:1: SettingWithCopyWarning: \n",
      "A value is trying to be set on a copy of a slice from a DataFrame.\n",
      "Try using .loc[row_indexer,col_indexer] = value instead\n",
      "\n",
      "See the caveats in the documentation: https://pandas.pydata.org/pandas-docs/stable/user_guide/indexing.html#returning-a-view-versus-a-copy\n",
      "  antivirus_data['City'] = antivirus_data['City'].str.upper()\n"
     ]
    }
   ],
   "source": [
    "antivirus_data['City'] = antivirus_data['City'].str.upper()"
   ]
  },
  {
   "cell_type": "code",
   "execution_count": 180,
   "id": "54eddd31",
   "metadata": {},
   "outputs": [
    {
     "data": {
      "text/plain": [
       "KARNATAKA                    1876\n",
       "MAHARASHTRA                  1704\n",
       "TAMIL NADU                   1566\n",
       "WEST BENGAL                  1037\n",
       "TELANGANA                     963\n",
       "KERALA                        919\n",
       "DELHI                         596\n",
       "UTTAR PRADESH                 576\n",
       "ANDHRA PRADESH                514\n",
       "GUJARAT                       369\n",
       "HARYANA                       263\n",
       "ODISHA                        246\n",
       "RAJASTHAN                     218\n",
       "MADHYA PRADESH                212\n",
       "PUNJAB                        185\n",
       "ASSAM                         146\n",
       "JHARKHAND                     128\n",
       "BIHAR                         115\n",
       "UTTARAKHAND                    91\n",
       "CHHATTISGARH                   78\n",
       "GOA                            55\n",
       "PUDUCHERRY                     44\n",
       "HIMACHAL PRADESH               41\n",
       "MEGHALAYA                      38\n",
       "CHANDIGARH                     36\n",
       "NAGALAND                       35\n",
       "TRIPURA                        34\n",
       "MANIPUR                        26\n",
       "UP                             17\n",
       "JAMMU   KASHMIR                12\n",
       "ARUNACHAL PRADESH              12\n",
       "SIKKIM                         11\n",
       "ANDAMAN   NICOBAR ISLANDS      11\n",
       "MIZORAM                         8\n",
       "KA                              8\n",
       "WB                              5\n",
       "AP                              4\n",
       "DADRA   NAGAR HAVELI            3\n",
       "HP                              3\n",
       "MH                              2\n",
       "TAMILNADU                       2\n",
       "KL                              2\n",
       "KERALAM                         1\n",
       "KARANATAKA                      1\n",
       "DAMAN   DIU                     1\n",
       "TN                              1\n",
       "LAKSHADWEEP                     1\n",
       "MALAPPURAM DT  KERALA           1\n",
       "Name: State, dtype: int64"
      ]
     },
     "execution_count": 180,
     "metadata": {},
     "output_type": "execute_result"
    }
   ],
   "source": [
    "antivirus_data['State'].value_counts()"
   ]
  },
  {
   "cell_type": "code",
   "execution_count": 181,
   "id": "0c067ddf",
   "metadata": {},
   "outputs": [
    {
     "data": {
      "text/plain": [
       "BENGALURU                          1083\n",
       "HYDERABAD                           755\n",
       "CHENNAI                             748\n",
       "MUMBAI                              548\n",
       "NEW DELHI                           496\n",
       "                                   ... \n",
       "VEPPANTHATTAI                         1\n",
       "BASUDEBPUR MURSHIDABAD DISTRICT       1\n",
       "COLABA MUMBAI                         1\n",
       "SRIGANGANAGAR                         1\n",
       "VANIYAMBALAM POST                     1\n",
       "Name: City, Length: 2003, dtype: int64"
      ]
     },
     "execution_count": 181,
     "metadata": {},
     "output_type": "execute_result"
    }
   ],
   "source": [
    "antivirus_data['City'].value_counts()"
   ]
  },
  {
   "cell_type": "code",
   "execution_count": 139,
   "id": "be469cfc",
   "metadata": {},
   "outputs": [
    {
     "data": {
      "text/html": [
       "<div>\n",
       "<style scoped>\n",
       "    .dataframe tbody tr th:only-of-type {\n",
       "        vertical-align: middle;\n",
       "    }\n",
       "\n",
       "    .dataframe tbody tr th {\n",
       "        vertical-align: top;\n",
       "    }\n",
       "\n",
       "    .dataframe thead th {\n",
       "        text-align: right;\n",
       "    }\n",
       "</style>\n",
       "<table border=\"1\" class=\"dataframe\">\n",
       "  <thead>\n",
       "    <tr style=\"text-align: right;\">\n",
       "      <th></th>\n",
       "      <th>Order Date</th>\n",
       "      <th>Order Id</th>\n",
       "      <th>Quantity</th>\n",
       "      <th>City</th>\n",
       "      <th>State</th>\n",
       "      <th>Postal Code</th>\n",
       "      <th>Sales (in ₹)</th>\n",
       "    </tr>\n",
       "  </thead>\n",
       "  <tbody>\n",
       "    <tr>\n",
       "      <th>0</th>\n",
       "      <td>01-08-2019</td>\n",
       "      <td>403-3530645-4532309</td>\n",
       "      <td>2.0</td>\n",
       "      <td>SHILLONG</td>\n",
       "      <td>MEGHALAYA</td>\n",
       "      <td>793014.0</td>\n",
       "      <td>622.0</td>\n",
       "    </tr>\n",
       "    <tr>\n",
       "      <th>1</th>\n",
       "      <td>01-08-2019</td>\n",
       "      <td>408-6483865-0205129</td>\n",
       "      <td>1.0</td>\n",
       "      <td>KARAIKAL</td>\n",
       "      <td>PUDUCHERRY</td>\n",
       "      <td>609602.0</td>\n",
       "      <td>599.0</td>\n",
       "    </tr>\n",
       "    <tr>\n",
       "      <th>2</th>\n",
       "      <td>01-08-2019</td>\n",
       "      <td>404-2232267-5620342</td>\n",
       "      <td>1.0</td>\n",
       "      <td>HOWRAH</td>\n",
       "      <td>WEST BENGAL</td>\n",
       "      <td>711106.0</td>\n",
       "      <td>99.0</td>\n",
       "    </tr>\n",
       "    <tr>\n",
       "      <th>3</th>\n",
       "      <td>01-08-2019</td>\n",
       "      <td>404-4361155-8379548</td>\n",
       "      <td>1.0</td>\n",
       "      <td>EAST DELHI</td>\n",
       "      <td>DELHI</td>\n",
       "      <td>110096.0</td>\n",
       "      <td>425.0</td>\n",
       "    </tr>\n",
       "    <tr>\n",
       "      <th>4</th>\n",
       "      <td>01-08-2019</td>\n",
       "      <td>171-5262052-7153940</td>\n",
       "      <td>1.0</td>\n",
       "      <td>SECUNDERABAD</td>\n",
       "      <td>TELANGANA</td>\n",
       "      <td>500011.0</td>\n",
       "      <td>311.0</td>\n",
       "    </tr>\n",
       "  </tbody>\n",
       "</table>\n",
       "</div>"
      ],
      "text/plain": [
       "   Order Date             Order Id  Quantity          City        State  \\\n",
       "0  01-08-2019  403-3530645-4532309       2.0      SHILLONG    MEGHALAYA   \n",
       "1  01-08-2019  408-6483865-0205129       1.0      KARAIKAL   PUDUCHERRY   \n",
       "2  01-08-2019  404-2232267-5620342       1.0        HOWRAH  WEST BENGAL   \n",
       "3  01-08-2019  404-4361155-8379548       1.0    EAST DELHI        DELHI   \n",
       "4  01-08-2019  171-5262052-7153940       1.0  SECUNDERABAD    TELANGANA   \n",
       "\n",
       "   Postal Code  Sales (in ₹)  \n",
       "0     793014.0         622.0  \n",
       "1     609602.0         599.0  \n",
       "2     711106.0          99.0  \n",
       "3     110096.0         425.0  \n",
       "4     500011.0         311.0  "
      ]
     },
     "execution_count": 139,
     "metadata": {},
     "output_type": "execute_result"
    }
   ],
   "source": [
    "antivirus_data.head()"
   ]
  },
  {
   "cell_type": "code",
   "execution_count": 140,
   "id": "5a824ee7",
   "metadata": {},
   "outputs": [
    {
     "data": {
      "text/html": [
       "<div>\n",
       "<style scoped>\n",
       "    .dataframe tbody tr th:only-of-type {\n",
       "        vertical-align: middle;\n",
       "    }\n",
       "\n",
       "    .dataframe tbody tr th {\n",
       "        vertical-align: top;\n",
       "    }\n",
       "\n",
       "    .dataframe thead th {\n",
       "        text-align: right;\n",
       "    }\n",
       "</style>\n",
       "<table border=\"1\" class=\"dataframe\">\n",
       "  <thead>\n",
       "    <tr style=\"text-align: right;\">\n",
       "      <th></th>\n",
       "      <th>Order Date</th>\n",
       "      <th>Order Id</th>\n",
       "      <th>Quantity</th>\n",
       "      <th>City</th>\n",
       "      <th>State</th>\n",
       "      <th>Postal Code</th>\n",
       "      <th>Sales (in ₹)</th>\n",
       "    </tr>\n",
       "  </thead>\n",
       "  <tbody>\n",
       "    <tr>\n",
       "      <th>12414</th>\n",
       "      <td>31-08-2019</td>\n",
       "      <td>403-0373609-2719543</td>\n",
       "      <td>1.0</td>\n",
       "      <td>COIMBATORE</td>\n",
       "      <td>TAMIL NADU</td>\n",
       "      <td>641008.0</td>\n",
       "      <td>549.0</td>\n",
       "    </tr>\n",
       "    <tr>\n",
       "      <th>12415</th>\n",
       "      <td>31-08-2019</td>\n",
       "      <td>403-9105417-1743550</td>\n",
       "      <td>1.0</td>\n",
       "      <td>HYDERABAD</td>\n",
       "      <td>TELANGANA</td>\n",
       "      <td>500018.0</td>\n",
       "      <td>439.0</td>\n",
       "    </tr>\n",
       "    <tr>\n",
       "      <th>12416</th>\n",
       "      <td>31-08-2019</td>\n",
       "      <td>408-4876710-9449148</td>\n",
       "      <td>1.0</td>\n",
       "      <td>BENGALURU</td>\n",
       "      <td>KARNATAKA</td>\n",
       "      <td>560077.0</td>\n",
       "      <td>275.0</td>\n",
       "    </tr>\n",
       "    <tr>\n",
       "      <th>12417</th>\n",
       "      <td>31-08-2019</td>\n",
       "      <td>408-8787519-2130735</td>\n",
       "      <td>1.0</td>\n",
       "      <td>NAVI MUMBAI</td>\n",
       "      <td>MAHARASHTRA</td>\n",
       "      <td>410210.0</td>\n",
       "      <td>769.0</td>\n",
       "    </tr>\n",
       "    <tr>\n",
       "      <th>12418</th>\n",
       "      <td>31-08-2019</td>\n",
       "      <td>406-9939020-8185154</td>\n",
       "      <td>1.0</td>\n",
       "      <td>MADURAI</td>\n",
       "      <td>TAMIL NADU</td>\n",
       "      <td>625009.0</td>\n",
       "      <td>549.0</td>\n",
       "    </tr>\n",
       "  </tbody>\n",
       "</table>\n",
       "</div>"
      ],
      "text/plain": [
       "       Order Date             Order Id  Quantity         City        State  \\\n",
       "12414  31-08-2019  403-0373609-2719543       1.0   COIMBATORE   TAMIL NADU   \n",
       "12415  31-08-2019  403-9105417-1743550       1.0    HYDERABAD    TELANGANA   \n",
       "12416  31-08-2019  408-4876710-9449148       1.0    BENGALURU    KARNATAKA   \n",
       "12417  31-08-2019  408-8787519-2130735       1.0  NAVI MUMBAI  MAHARASHTRA   \n",
       "12418  31-08-2019  406-9939020-8185154       1.0      MADURAI   TAMIL NADU   \n",
       "\n",
       "       Postal Code  Sales (in ₹)  \n",
       "12414     641008.0         549.0  \n",
       "12415     500018.0         439.0  \n",
       "12416     560077.0         275.0  \n",
       "12417     410210.0         769.0  \n",
       "12418     625009.0         549.0  "
      ]
     },
     "execution_count": 140,
     "metadata": {},
     "output_type": "execute_result"
    }
   ],
   "source": [
    "antivirus_data.tail()"
   ]
  },
  {
   "cell_type": "code",
   "execution_count": 141,
   "id": "8a77bf98",
   "metadata": {},
   "outputs": [
    {
     "data": {
      "text/html": [
       "<div>\n",
       "<style scoped>\n",
       "    .dataframe tbody tr th:only-of-type {\n",
       "        vertical-align: middle;\n",
       "    }\n",
       "\n",
       "    .dataframe tbody tr th {\n",
       "        vertical-align: top;\n",
       "    }\n",
       "\n",
       "    .dataframe thead th {\n",
       "        text-align: right;\n",
       "    }\n",
       "</style>\n",
       "<table border=\"1\" class=\"dataframe\">\n",
       "  <thead>\n",
       "    <tr style=\"text-align: right;\">\n",
       "      <th></th>\n",
       "      <th>Quantity</th>\n",
       "      <th>Postal Code</th>\n",
       "      <th>Sales (in ₹)</th>\n",
       "    </tr>\n",
       "  </thead>\n",
       "  <tbody>\n",
       "    <tr>\n",
       "      <th>count</th>\n",
       "      <td>12217.000000</td>\n",
       "      <td>12217.000000</td>\n",
       "      <td>12217.000000</td>\n",
       "    </tr>\n",
       "    <tr>\n",
       "      <th>mean</th>\n",
       "      <td>1.028239</td>\n",
       "      <td>506083.892936</td>\n",
       "      <td>495.702055</td>\n",
       "    </tr>\n",
       "    <tr>\n",
       "      <th>std</th>\n",
       "      <td>0.557973</td>\n",
       "      <td>184493.576763</td>\n",
       "      <td>570.397914</td>\n",
       "    </tr>\n",
       "    <tr>\n",
       "      <th>min</th>\n",
       "      <td>1.000000</td>\n",
       "      <td>110001.000000</td>\n",
       "      <td>49.000000</td>\n",
       "    </tr>\n",
       "    <tr>\n",
       "      <th>25%</th>\n",
       "      <td>1.000000</td>\n",
       "      <td>400614.000000</td>\n",
       "      <td>109.000000</td>\n",
       "    </tr>\n",
       "    <tr>\n",
       "      <th>50%</th>\n",
       "      <td>1.000000</td>\n",
       "      <td>560019.000000</td>\n",
       "      <td>399.000000</td>\n",
       "    </tr>\n",
       "    <tr>\n",
       "      <th>75%</th>\n",
       "      <td>1.000000</td>\n",
       "      <td>636308.000000</td>\n",
       "      <td>600.000000</td>\n",
       "    </tr>\n",
       "    <tr>\n",
       "      <th>max</th>\n",
       "      <td>50.000000</td>\n",
       "      <td>855114.000000</td>\n",
       "      <td>27500.000000</td>\n",
       "    </tr>\n",
       "  </tbody>\n",
       "</table>\n",
       "</div>"
      ],
      "text/plain": [
       "           Quantity    Postal Code  Sales (in ₹)\n",
       "count  12217.000000   12217.000000  12217.000000\n",
       "mean       1.028239  506083.892936    495.702055\n",
       "std        0.557973  184493.576763    570.397914\n",
       "min        1.000000  110001.000000     49.000000\n",
       "25%        1.000000  400614.000000    109.000000\n",
       "50%        1.000000  560019.000000    399.000000\n",
       "75%        1.000000  636308.000000    600.000000\n",
       "max       50.000000  855114.000000  27500.000000"
      ]
     },
     "execution_count": 141,
     "metadata": {},
     "output_type": "execute_result"
    }
   ],
   "source": [
    "antivirus_data.describe()"
   ]
  },
  {
   "cell_type": "code",
   "execution_count": 144,
   "id": "90ab4654",
   "metadata": {},
   "outputs": [
    {
     "data": {
      "text/plain": [
       "Order Date         31\n",
       "Order Id        12217\n",
       "Quantity           10\n",
       "City             2267\n",
       "State              61\n",
       "Postal Code      3759\n",
       "Sales (in ₹)      123\n",
       "dtype: int64"
      ]
     },
     "execution_count": 144,
     "metadata": {},
     "output_type": "execute_result"
    }
   ],
   "source": [
    "antivirus_data.nunique()"
   ]
  },
  {
   "cell_type": "code",
   "execution_count": 182,
   "id": "9f2d90c5",
   "metadata": {},
   "outputs": [
    {
     "data": {
      "text/plain": [
       "495.7020545142015"
      ]
     },
     "execution_count": 182,
     "metadata": {},
     "output_type": "execute_result"
    }
   ],
   "source": [
    "antivirus_data['Sales (in ₹)'].mean()"
   ]
  },
  {
   "cell_type": "code",
   "execution_count": 183,
   "id": "eff25dfa",
   "metadata": {},
   "outputs": [
    {
     "data": {
      "text/plain": [
       "399.0"
      ]
     },
     "execution_count": 183,
     "metadata": {},
     "output_type": "execute_result"
    }
   ],
   "source": [
    "antivirus_data['Sales (in ₹)'].median()"
   ]
  },
  {
   "cell_type": "code",
   "execution_count": 184,
   "id": "9a0ad402",
   "metadata": {},
   "outputs": [
    {
     "data": {
      "text/plain": [
       "0    109.0\n",
       "Name: Sales (in ₹), dtype: float64"
      ]
     },
     "execution_count": 184,
     "metadata": {},
     "output_type": "execute_result"
    }
   ],
   "source": [
    "antivirus_data['Sales (in ₹)'].mode()"
   ]
  },
  {
   "cell_type": "code",
   "execution_count": 185,
   "id": "990900d9",
   "metadata": {},
   "outputs": [],
   "source": [
    "antivirus_data.to_csv(\"Kaspersky_Sales_Aug2019.csv\")"
   ]
  },
  {
   "cell_type": "code",
   "execution_count": 5,
   "id": "bf6139f8",
   "metadata": {},
   "outputs": [],
   "source": [
    "antivirus_data = pd.read_csv(\"C:\\\\Users\\\\saifr\\\\OneDrive\\\\Documents\\\\Data Sets\\\\Kaspersky_Sales_Aug2019.csv\")\n"
   ]
  },
  {
   "cell_type": "code",
   "execution_count": 6,
   "id": "f3ee23d2",
   "metadata": {},
   "outputs": [
    {
     "data": {
      "text/html": [
       "<div>\n",
       "<style scoped>\n",
       "    .dataframe tbody tr th:only-of-type {\n",
       "        vertical-align: middle;\n",
       "    }\n",
       "\n",
       "    .dataframe tbody tr th {\n",
       "        vertical-align: top;\n",
       "    }\n",
       "\n",
       "    .dataframe thead th {\n",
       "        text-align: right;\n",
       "    }\n",
       "</style>\n",
       "<table border=\"1\" class=\"dataframe\">\n",
       "  <thead>\n",
       "    <tr style=\"text-align: right;\">\n",
       "      <th></th>\n",
       "      <th>Order Date</th>\n",
       "      <th>Order Id</th>\n",
       "      <th>Quantity</th>\n",
       "      <th>City</th>\n",
       "      <th>State</th>\n",
       "      <th>Postal Code</th>\n",
       "      <th>Sales</th>\n",
       "    </tr>\n",
       "  </thead>\n",
       "  <tbody>\n",
       "    <tr>\n",
       "      <th>0</th>\n",
       "      <td>01-08-2019</td>\n",
       "      <td>403-3530645-4532309</td>\n",
       "      <td>2</td>\n",
       "      <td>SHILLONG</td>\n",
       "      <td>MEGHALAYA</td>\n",
       "      <td>793014</td>\n",
       "      <td>622</td>\n",
       "    </tr>\n",
       "    <tr>\n",
       "      <th>1</th>\n",
       "      <td>01-08-2019</td>\n",
       "      <td>408-6483865-0205129</td>\n",
       "      <td>1</td>\n",
       "      <td>KARAIKAL</td>\n",
       "      <td>PUDUCHERRY</td>\n",
       "      <td>609602</td>\n",
       "      <td>599</td>\n",
       "    </tr>\n",
       "    <tr>\n",
       "      <th>2</th>\n",
       "      <td>01-08-2019</td>\n",
       "      <td>404-2232267-5620342</td>\n",
       "      <td>1</td>\n",
       "      <td>HOWRAH</td>\n",
       "      <td>WEST BENGAL</td>\n",
       "      <td>711106</td>\n",
       "      <td>99</td>\n",
       "    </tr>\n",
       "    <tr>\n",
       "      <th>3</th>\n",
       "      <td>01-08-2019</td>\n",
       "      <td>404-4361155-8379548</td>\n",
       "      <td>1</td>\n",
       "      <td>EAST DELHI</td>\n",
       "      <td>DELHI</td>\n",
       "      <td>110096</td>\n",
       "      <td>425</td>\n",
       "    </tr>\n",
       "    <tr>\n",
       "      <th>4</th>\n",
       "      <td>01-08-2019</td>\n",
       "      <td>171-5262052-7153940</td>\n",
       "      <td>1</td>\n",
       "      <td>SECUNDERABAD</td>\n",
       "      <td>TELANGANA</td>\n",
       "      <td>500011</td>\n",
       "      <td>311</td>\n",
       "    </tr>\n",
       "    <tr>\n",
       "      <th>...</th>\n",
       "      <td>...</td>\n",
       "      <td>...</td>\n",
       "      <td>...</td>\n",
       "      <td>...</td>\n",
       "      <td>...</td>\n",
       "      <td>...</td>\n",
       "      <td>...</td>\n",
       "    </tr>\n",
       "    <tr>\n",
       "      <th>12212</th>\n",
       "      <td>31-08-2019</td>\n",
       "      <td>403-0373609-2719543</td>\n",
       "      <td>1</td>\n",
       "      <td>COIMBATORE</td>\n",
       "      <td>TAMIL NADU</td>\n",
       "      <td>641008</td>\n",
       "      <td>549</td>\n",
       "    </tr>\n",
       "    <tr>\n",
       "      <th>12213</th>\n",
       "      <td>31-08-2019</td>\n",
       "      <td>403-9105417-1743550</td>\n",
       "      <td>1</td>\n",
       "      <td>HYDERABAD</td>\n",
       "      <td>TELANGANA</td>\n",
       "      <td>500018</td>\n",
       "      <td>439</td>\n",
       "    </tr>\n",
       "    <tr>\n",
       "      <th>12214</th>\n",
       "      <td>31-08-2019</td>\n",
       "      <td>408-4876710-9449148</td>\n",
       "      <td>1</td>\n",
       "      <td>BENGALURU</td>\n",
       "      <td>KARNATAKA</td>\n",
       "      <td>560077</td>\n",
       "      <td>275</td>\n",
       "    </tr>\n",
       "    <tr>\n",
       "      <th>12215</th>\n",
       "      <td>31-08-2019</td>\n",
       "      <td>408-8787519-2130735</td>\n",
       "      <td>1</td>\n",
       "      <td>NAVI MUMBAI</td>\n",
       "      <td>MAHARASHTRA</td>\n",
       "      <td>410210</td>\n",
       "      <td>769</td>\n",
       "    </tr>\n",
       "    <tr>\n",
       "      <th>12216</th>\n",
       "      <td>31-08-2019</td>\n",
       "      <td>406-9939020-8185154</td>\n",
       "      <td>1</td>\n",
       "      <td>MADURAI</td>\n",
       "      <td>TAMIL NADU</td>\n",
       "      <td>625009</td>\n",
       "      <td>549</td>\n",
       "    </tr>\n",
       "  </tbody>\n",
       "</table>\n",
       "<p>12217 rows × 7 columns</p>\n",
       "</div>"
      ],
      "text/plain": [
       "       Order Date             Order Id  Quantity          City        State  \\\n",
       "0      01-08-2019  403-3530645-4532309         2      SHILLONG    MEGHALAYA   \n",
       "1      01-08-2019  408-6483865-0205129         1      KARAIKAL   PUDUCHERRY   \n",
       "2      01-08-2019  404-2232267-5620342         1        HOWRAH  WEST BENGAL   \n",
       "3      01-08-2019  404-4361155-8379548         1    EAST DELHI        DELHI   \n",
       "4      01-08-2019  171-5262052-7153940         1  SECUNDERABAD    TELANGANA   \n",
       "...           ...                  ...       ...           ...          ...   \n",
       "12212  31-08-2019  403-0373609-2719543         1    COIMBATORE   TAMIL NADU   \n",
       "12213  31-08-2019  403-9105417-1743550         1     HYDERABAD    TELANGANA   \n",
       "12214  31-08-2019  408-4876710-9449148         1     BENGALURU    KARNATAKA   \n",
       "12215  31-08-2019  408-8787519-2130735         1   NAVI MUMBAI  MAHARASHTRA   \n",
       "12216  31-08-2019  406-9939020-8185154         1       MADURAI   TAMIL NADU   \n",
       "\n",
       "       Postal Code  Sales  \n",
       "0           793014    622  \n",
       "1           609602    599  \n",
       "2           711106     99  \n",
       "3           110096    425  \n",
       "4           500011    311  \n",
       "...            ...    ...  \n",
       "12212       641008    549  \n",
       "12213       500018    439  \n",
       "12214       560077    275  \n",
       "12215       410210    769  \n",
       "12216       625009    549  \n",
       "\n",
       "[12217 rows x 7 columns]"
      ]
     },
     "execution_count": 6,
     "metadata": {},
     "output_type": "execute_result"
    }
   ],
   "source": [
    "antivirus_data"
   ]
  },
  {
   "cell_type": "code",
   "execution_count": 7,
   "id": "8993f083",
   "metadata": {},
   "outputs": [],
   "source": [
    "import matplotlib.pyplot as plt\n",
    "import seaborn as sn\n",
    "%matplotlib inline"
   ]
  },
  {
   "cell_type": "code",
   "execution_count": 40,
   "id": "bc91e020",
   "metadata": {},
   "outputs": [
    {
     "data": {
      "text/plain": [
       "(0.0, 3000.0)"
      ]
     },
     "execution_count": 40,
     "metadata": {},
     "output_type": "execute_result"
    },
    {
     "data": {
      "image/png": "[encoded data removed]",
      "text/plain": [
       "<Figure size 432x288 with 1 Axes>"
      ]
     },
     "metadata": {
      "needs_background": "light"
     },
     "output_type": "display_data"
    }
   ],
   "source": [
    "plt.hist(antivirus_data['Sales'], bins = 150);\n",
    "plt.xlim((0, 3000))"
   ]
  },
  {
   "cell_type": "code",
   "execution_count": 8,
   "id": "cf37b558",
   "metadata": {},
   "outputs": [
    {
     "name": "stderr",
     "output_type": "stream",
     "text": [
      "C:\\Users\\saifr\\anaconda3\\lib\\site-packages\\seaborn\\_decorators.py:36: FutureWarning: Pass the following variable as a keyword arg: x. From version 0.12, the only valid positional argument will be `data`, and passing other arguments without an explicit keyword will result in an error or misinterpretation.\n",
      "  warnings.warn(\n"
     ]
    },
    {
     "data": {
      "image/png": "[encoded data removed]",
      "text/plain": [
       "<Figure size 432x288 with 1 Axes>"
      ]
     },
     "metadata": {
      "needs_background": "light"
     },
     "output_type": "display_data"
    }
   ],
   "source": [
    "sn.boxplot(antivirus_data['Sales']);"
   ]
  },
  {
   "cell_type": "code",
   "execution_count": null,
   "id": "929ba368",
   "metadata": {},
   "outputs": [],
   "source": []
  }
 ],
 "metadata": {
  "kernelspec": {
   "display_name": "Python 3 (ipykernel)",
   "language": "python",
   "name": "python3"
  },
  "language_info": {
   "codemirror_mode": {
    "name": "ipython",
    "version": 3
   },
   "file_extension": ".py",
   "mimetype": "text/x-python",
   "name": "python",
   "nbconvert_exporter": "python",
   "pygments_lexer": "ipython3",
   "version": "3.9.12"
  }
 },
 "nbformat": 4,
 "nbformat_minor": 5
}
